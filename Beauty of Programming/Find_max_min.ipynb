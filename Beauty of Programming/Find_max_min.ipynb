{
 "cells": [
  {
   "cell_type": "code",
   "execution_count": 4,
   "metadata": {},
   "outputs": [
    {
     "name": "stdout",
     "output_type": "stream",
     "text": [
      "[0.6118979768008879, 0.8674730516019361, 0.5926682183631945, 0.9858121868801597, 0.3074412508985327, 0.24224025856551534, 0.9000109807536001, 0.1730590441016061, 0.23781930274958007, 0.984973124804188]\n"
     ]
    }
   ],
   "source": [
    "import random\n",
    "n = 10\n",
    "num = [random.random() for i in range(n)]\n",
    "print(num)"
   ]
  },
  {
   "cell_type": "code",
   "execution_count": 5,
   "metadata": {},
   "outputs": [
    {
     "name": "stdout",
     "output_type": "stream",
     "text": [
      "0.1730590441016061 0.9858121868801597\n"
     ]
    }
   ],
   "source": [
    "if num is not None:\n",
    "    number_min = num[0]\n",
    "    number_max = num[0]\n",
    "if len(num) > 1:\n",
    "    for i in range(1, len(num)):\n",
    "        if num[i] < number_min:\n",
    "            number_min = num[i]\n",
    "        if num[i] > number_max:\n",
    "            number_max = num[i]\n",
    "print(number_min, number_max)"
   ]
  }
 ],
 "metadata": {
  "kernelspec": {
   "display_name": "Python 3",
   "language": "python",
   "name": "python3"
  },
  "language_info": {
   "codemirror_mode": {
    "name": "ipython",
    "version": 3
   },
   "file_extension": ".py",
   "mimetype": "text/x-python",
   "name": "python",
   "nbconvert_exporter": "python",
   "pygments_lexer": "ipython3",
   "version": "3.6.5"
  }
 },
 "nbformat": 4,
 "nbformat_minor": 2
}
