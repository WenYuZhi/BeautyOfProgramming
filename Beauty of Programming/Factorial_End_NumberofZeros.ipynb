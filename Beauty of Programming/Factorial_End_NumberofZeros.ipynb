{
 "cells": [
  {
   "cell_type": "code",
   "execution_count": 32,
   "metadata": {},
   "outputs": [],
   "source": [
    "import time "
   ]
  },
  {
   "cell_type": "code",
   "execution_count": 33,
   "metadata": {},
   "outputs": [
    {
     "name": "stdout",
     "output_type": "stream",
     "text": [
      "249998\n",
      "0.17714704690021676\n"
     ]
    }
   ],
   "source": [
    "ts = time.clock()\n",
    "num, num_zeros = int(1e6), 0\n",
    "for i in range(1, num + 1):\n",
    "    while i % 5  == 0 and i > 0:\n",
    "        num_zeros += 1\n",
    "        i = i // 5\n",
    "print(num_zeros)\n",
    "print(time.clock() - ts)"
   ]
  },
  {
   "cell_type": "code",
   "execution_count": 34,
   "metadata": {},
   "outputs": [
    {
     "name": "stdout",
     "output_type": "stream",
     "text": [
      "249998\n",
      "0.00019530064980699535\n"
     ]
    }
   ],
   "source": [
    "ts = time.clock()\n",
    "num_zeros = 0\n",
    "while num > 0:\n",
    "    num = num // 5\n",
    "    num_zeros += num\n",
    "print(num_zeros)\n",
    "print(time.clock() - ts)"
   ]
  }
 ],
 "metadata": {
  "kernelspec": {
   "display_name": "Python 3",
   "language": "python",
   "name": "python3"
  },
  "language_info": {
   "codemirror_mode": {
    "name": "ipython",
    "version": 3
   },
   "file_extension": ".py",
   "mimetype": "text/x-python",
   "name": "python",
   "nbconvert_exporter": "python",
   "pygments_lexer": "ipython3",
   "version": "3.6.5"
  }
 },
 "nbformat": 4,
 "nbformat_minor": 2
}
