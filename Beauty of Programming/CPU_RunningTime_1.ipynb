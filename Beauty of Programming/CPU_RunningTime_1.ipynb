{
 "cells": [
  {
   "cell_type": "code",
   "execution_count": 13,
   "metadata": {},
   "outputs": [
    {
     "name": "stdout",
     "output_type": "stream",
     "text": [
      "11.258628241184141\n"
     ]
    }
   ],
   "source": [
    "import time\n",
    "import math\n",
    "\n",
    "ts = time.clock()\n",
    "for i in range(20000000):\n",
    "    temp = math.sin((5000 + i) % 38) % math.exp((5000 + i) % 5)\n",
    "print(time.clock() - ts)"
   ]
  },
  {
   "cell_type": "code",
   "execution_count": null,
   "metadata": {},
   "outputs": [],
   "source": [
    "n_wave = 10\n",
    "for j in range(n_wave):\n",
    "    if j % 2 == 0:\n",
    "        for i in range(20000000):\n",
    "            temp = math.sin((5000 + i) % 38) % math.exp((5000 + i) % 5)\n",
    "    else:\n",
    "        time.sleep(11)"
   ]
  }
 ],
 "metadata": {
  "kernelspec": {
   "display_name": "Python 3",
   "language": "python",
   "name": "python3"
  },
  "language_info": {
   "codemirror_mode": {
    "name": "ipython",
    "version": 3
   },
   "file_extension": ".py",
   "mimetype": "text/x-python",
   "name": "python",
   "nbconvert_exporter": "python",
   "pygments_lexer": "ipython3",
   "version": "3.6.5"
  }
 },
 "nbformat": 4,
 "nbformat_minor": 2
}
