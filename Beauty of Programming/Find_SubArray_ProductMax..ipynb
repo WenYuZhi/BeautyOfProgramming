{
 "cells": [
  {
   "cell_type": "code",
   "execution_count": 19,
   "metadata": {},
   "outputs": [
    {
     "name": "stdout",
     "output_type": "stream",
     "text": [
      "[2, 3, 3, 1, 1, 3, 1, 1, 1, 2]\n"
     ]
    }
   ],
   "source": [
    "import random\n",
    "n_length = 10\n",
    "nums = [random.randint(1,3) for i in range(n_length)]\n",
    "print(nums)"
   ]
  },
  {
   "cell_type": "code",
   "execution_count": 20,
   "metadata": {},
   "outputs": [
    {
     "name": "stdout",
     "output_type": "stream",
     "text": [
      "[1, 2, 6, 18, 18, 18, 54, 54, 54, 54]\n"
     ]
    }
   ],
   "source": [
    "left_side = [1]\n",
    "for i in range(1, n_length):\n",
    "    left_side.append(nums[i-1] * left_side[i-1])\n",
    "print(left_side)        "
   ]
  },
  {
   "cell_type": "code",
   "execution_count": 21,
   "metadata": {},
   "outputs": [
    {
     "name": "stdout",
     "output_type": "stream",
     "text": [
      "[1, 2, 2, 2, 2, 6, 6, 6, 18, 54]\n"
     ]
    }
   ],
   "source": [
    "right_side = [1]\n",
    "for i in range(1, n_length):\n",
    "    right_side.append(nums[n_length - i] * right_side[i - 1])\n",
    "print(right_side)"
   ]
  },
  {
   "cell_type": "code",
   "execution_count": 22,
   "metadata": {},
   "outputs": [
    {
     "name": "stdout",
     "output_type": "stream",
     "text": [
      "108\n"
     ]
    }
   ],
   "source": [
    "max_product = -1e10\n",
    "for i in range(n_length):\n",
    "    if left_side[i] * right_side[-(i+1)] > max_product:\n",
    "        max_product = left_side[i] * right_side[-(i+1)]\n",
    "print(max_product)"
   ]
  }
 ],
 "metadata": {
  "kernelspec": {
   "display_name": "Python 3",
   "language": "python",
   "name": "python3"
  },
  "language_info": {
   "codemirror_mode": {
    "name": "ipython",
    "version": 3
   },
   "file_extension": ".py",
   "mimetype": "text/x-python",
   "name": "python",
   "nbconvert_exporter": "python",
   "pygments_lexer": "ipython3",
   "version": "3.6.5"
  }
 },
 "nbformat": 4,
 "nbformat_minor": 2
}
