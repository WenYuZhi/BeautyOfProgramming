{
 "cells": [
  {
   "cell_type": "code",
   "execution_count": 4,
   "metadata": {},
   "outputs": [
    {
     "name": "stdout",
     "output_type": "stream",
     "text": [
      "da\n"
     ]
    }
   ],
   "source": [
    "strings = 'abcd'\n",
    "s = 'da'\n",
    "for i in range(len(strings)):\n",
    "    strings = strings[-1] + strings[0:-1]\n",
    "    if s in strings:\n",
    "        print(s)\n",
    "        break"
   ]
  },
  {
   "cell_type": "code",
   "execution_count": 6,
   "metadata": {},
   "outputs": [
    {
     "name": "stdout",
     "output_type": "stream",
     "text": [
      "da\n"
     ]
    }
   ],
   "source": [
    "strings = 'abcd'\n",
    "strings_whole = strings + strings\n",
    "if s in strings_whole:\n",
    "    print(s)"
   ]
  },
  {
   "cell_type": "code",
   "execution_count": 10,
   "metadata": {},
   "outputs": [
    {
     "name": "stdout",
     "output_type": "stream",
     "text": [
      "<class 'int'> 499936608\n",
      "<class 'float'> 79219688\n",
      "<class 'list'> 81104072\n"
     ]
    }
   ],
   "source": [
    "num = 10\n",
    "print(type(num), id(num))\n",
    "num = 10.0\n",
    "print(type(num), id(num))\n",
    "num = [1, 2]\n",
    "print(type(num), id(num))"
   ]
  }
 ],
 "metadata": {
  "kernelspec": {
   "display_name": "Python 3",
   "language": "python",
   "name": "python3"
  },
  "language_info": {
   "codemirror_mode": {
    "name": "ipython",
    "version": 3
   },
   "file_extension": ".py",
   "mimetype": "text/x-python",
   "name": "python",
   "nbconvert_exporter": "python",
   "pygments_lexer": "ipython3",
   "version": "3.6.5"
  }
 },
 "nbformat": 4,
 "nbformat_minor": 2
}
